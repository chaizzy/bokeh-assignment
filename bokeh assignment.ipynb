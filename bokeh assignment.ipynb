{
 "cells": [
  {
   "cell_type": "code",
   "execution_count": 1,
   "id": "0aa46114-6eba-44ff-bec4-2ae80aff958f",
   "metadata": {},
   "outputs": [],
   "source": [
    "# ANS 1:\n",
    "# FOR BOKEH PLOT :\n",
    "# 1. we have to import all libraries required\n",
    "import bokeh.io\n",
    "import bokeh.plotting\n",
    "from bokeh.plotting import output_file , figure ,show\n",
    "\n",
    "# then we have to give:\n",
    "x=[1,2,3,4,5]\n",
    "y=[3,2,4,1,6]\n",
    "\n",
    "# output file\n",
    "output_file(\"test.html\")\n",
    "\n",
    "# plot the graph\n",
    "p = figure()\n",
    "p.circle(x,y)\n",
    "show(p)"
   ]
  },
  {
   "cell_type": "code",
   "execution_count": 7,
   "id": "3b6c7a13-1952-4ff7-b430-dded959eb7fc",
   "metadata": {},
   "outputs": [],
   "source": [
    "# ANS 2:\n",
    "# glyphs are visual elements that bokeh uses while displaying the plot . visual elements can line,circle,rectangle etc.\n",
    "# for adding glyphs we have to import cloumndatasource from bokeh.model\n",
    "\n",
    "# here's the example\n",
    "\n",
    "# import bokeh.io\n",
    "# import bokeh.plotting\n",
    "# from bokeh.model import ColumnDataSource\n",
    "# from bokeh.plotting import output_file , figure ,show\n",
    "\n",
    "# x=[1,2,3,4,5,6]\n",
    "# y =[3,1,3,5,7,9]\n",
    "\n",
    "# ouput_file(\"test1.html)\n",
    "\n",
    "# p = figure(title=\"Fruit Counts\")\n",
    "\n",
    "# Creating a ColumnDataSource object\n",
    "# source = ColumnDataSource(data=dict(x=x, y=y, fruit=['Apples', 'Pears', 'Bananas', 'Apples', 'Pears']))\n",
    "\n",
    "# Adding circle glyphs to the plot\n",
    "# p.circle(x='x', y='y', size=20, source=source, fill_color=colors)\n",
    "\n",
    "# show(p)\n"
   ]
  },
  {
   "cell_type": "code",
   "execution_count": 8,
   "id": "749d409f-2286-46b5-b9ea-63d48cf552bb",
   "metadata": {},
   "outputs": [],
   "source": [
    "# ANS 3:\n",
    "# we customize it by giving the following\n",
    "# title : displays the title of the plot\n",
    "# xlabel : displays the xaxis name basically what it represents\n",
    "# ylabel : displays the yaxis name basically what it represents\n",
    "# legend : legend represents different variables of output basically it displays which data represents which variables"
   ]
  },
  {
   "cell_type": "code",
   "execution_count": 9,
   "id": "ab3b9497-9732-4095-8c8f-980121ed0126",
   "metadata": {},
   "outputs": [],
   "source": [
    "# ANS 4:\n",
    "# A Bokeh server is a Python application that allows you to create and serve interactive Bokeh plots that can be updated in real time. \n",
    "# The Bokeh server makes it possible to create dynamic and interactive data visualization applications that can respond to user input, \n",
    "# update automatically, and stream new data"
   ]
  },
  {
   "cell_type": "code",
   "execution_count": null,
   "id": "74e155db-25b7-473a-8e2d-6cad964d3f00",
   "metadata": {},
   "outputs": [],
   "source": [
    "# ANS 5:\n",
    "# we can embed by following few steps:\n",
    "# 1.Create a Bokeh plot using the Bokeh library.\n",
    "# 2.Save the Bokeh plot to an HTML file using the bokeh.embed.file_html function. This function generates the HTML code needed to embed the plot in a web page.\n",
    "# 3.In your Flask or Django application, create a route that returns the HTML file containing the Bokeh plot.\n",
    "# 4.In the template of your Flask or Django application, include the HTML file using the appropriate syntax for your template engine."
   ]
  }
 ],
 "metadata": {
  "kernelspec": {
   "display_name": "Python 3 (ipykernel)",
   "language": "python",
   "name": "python3"
  },
  "language_info": {
   "codemirror_mode": {
    "name": "ipython",
    "version": 3
   },
   "file_extension": ".py",
   "mimetype": "text/x-python",
   "name": "python",
   "nbconvert_exporter": "python",
   "pygments_lexer": "ipython3",
   "version": "3.10.8"
  }
 },
 "nbformat": 4,
 "nbformat_minor": 5
}
